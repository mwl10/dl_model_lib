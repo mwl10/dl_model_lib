{
 "cells": [
  {
   "cell_type": "markdown",
   "metadata": {},
   "source": [
    "## GRU CELL "
   ]
  },
  {
   "cell_type": "markdown",
   "metadata": {},
   "source": [
    "\n",
    "$\\tilde{C}^{<t>} = tanh(W_c[r_t * C^{<t-1>}, x_{<t>}] + b_c)$\n",
    "\n",
    "$r_t = \\sigma(W_r[C^{<t-1>}, x^{<t>}] + b_r)$\n",
    "\n",
    "$i_t = \\sigma(W_u[C^{<t-1>}, x^{<t>}] + b_i)$\n",
    "\n",
    "$C^{<t>} = i_t * \\tilde{C}^{<t>} + (1 - i_t) * C^{<t-1>}$\n"
   ]
  },
  {
   "cell_type": "markdown",
   "metadata": {},
   "source": [
    "## LSTM Cell"
   ]
  },
  {
   "cell_type": "markdown",
   "metadata": {},
   "source": [
    "$\\tilde{C}^{<t>} = tanh(W_c[a^{<t-1>}, x_{<t>}] + b_c)$\n",
    "\n",
    "$i_t = \\sigma(W_i[a^{<t-1>}, x^{<t>}] + b_u)$\n",
    "\n",
    "$f_t = \\sigma(W_f[a^{<t-1>}, x^{<t>}] + b_f)$\n",
    "\n",
    "$o_t = \\sigma(W_o[a^{<t-1>}, x^{<t>}] + b_o)$\n",
    "\n",
    "$C^{<t>} = i_t * \\tilde{C}^{<t>} + f_t * C^{<t-1>}$\n",
    "\n",
    "$a^{<t>} = o_t * tanh(C^{<t>}) $"
   ]
  },
  {
   "cell_type": "markdown",
   "metadata": {},
   "source": [
    "## CUSTOM RNN 1\n",
    "get rid of either the forget (f) gate like the GRU does, but keep output gate"
   ]
  },
  {
   "cell_type": "markdown",
   "metadata": {},
   "source": [
    "$\\tilde{C}^{<t>} = tanh(W_c[a^{<t-1>}, x_{<t>}] + b_c)$\n",
    "\n",
    "$i_t = \\sigma(W_i[a^{<t-1>}, x^{<t>}] + b_i)$\n",
    "\n",
    "$o_t = \\sigma(W_o[a^{<t-1>}, x^{<t>}] + b_o)$\n",
    "\n",
    "$C^{<t>} = i_t * \\tilde{C}^{<t>} + (1 - i_t) * C^{<t-1>}$\n",
    "\n",
    "$a^{<t>} = o_t * tanh(C^{<t>}) $"
   ]
  },
  {
   "cell_type": "markdown",
   "metadata": {},
   "source": [
    "## CUSTOM RNN 2\n",
    "use past cell state c\\<t-1> more than LSTM does in determining output h\\<t> by adding an extra forget gate, so output and cell state can take differing things from the previous cell state "
   ]
  },
  {
   "cell_type": "markdown",
   "metadata": {},
   "source": [
    "$\\tilde{C}^{<t>} = tanh(W_c[a^{<t-1>}, x_{<t>}] + b_c)$\n",
    "\n",
    "$i_t = \\sigma(W_i[a^{<t-1>}, x^{<t>}] + b_u)$\n",
    "\n",
    "$f_t = \\sigma(W_f[a^{<t-1>}, x^{<t>}] + b_f)$\n",
    "\n",
    "$f2_t = \\sigma(W_{f2}[a^{<t-1>}, x^{<t>}] + b_{f2})$\n",
    "\n",
    "$o_t = \\sigma(W_o[a^{<t-1>}, x^{<t>}] + b_o)$\n",
    "\n",
    "$C^{<t>} = i_t * \\tilde{C}^{<t>} + f_t * C^{<t-1>}$\n",
    "\n",
    "$a^{<t>} = o_t * tanh(C^{<t>} + f2_t *  C^{<t-1>}) $"
   ]
  },
  {
   "cell_type": "markdown",
   "metadata": {},
   "source": [
    "## CUSTOM RNN 3\n",
    "just add a whole extra cell state to a GRU "
   ]
  },
  {
   "cell_type": "markdown",
   "metadata": {},
   "source": [
    "$\\tilde{C}^{<t>} = tanh(W_c[a^{t-1}, x_{<t>}] + b_c)$\n",
    "\n",
    "$\\tilde{C2}^{<t>} = tanh(W_{c2}[a^{<t-1>}, x_{<t>}] + b_{c2})$\n",
    "\n",
    "$i_t = \\sigma(W_i[a^{<t-1>}, x^{<t>}] + b_u)$\n",
    "\n",
    "$o_t = \\sigma(W_o[a^{<t-1>}, x^{<t>}] + b_o)$\n",
    "\n",
    "\n",
    "$i2_t = \\sigma(W_{i2}[a^{<t-1>}, x^{<t>}] + b_{i2})$\n",
    "\n",
    "$o2_t = \\sigma(W_{o2}[a^{<t-1>}, x^{<t>}] + b_{o2})$\n",
    "\n",
    "$C^{<t>} = i_t * \\tilde{C}^{<t>} + (1 - i_t) * C^{<t-1>}$\n",
    "\n",
    "$C2^{<t>} = i2_t * \\tilde{C2}^{<t>} + (1 - i2_t) * C2^{<t-1>}$\n",
    "\n",
    "$a^{<t>} = o_t * tanh(C^{<t>}) + o2_t * tanh(C2^{<t>})$"
   ]
  },
  {
   "cell_type": "code",
   "execution_count": null,
   "metadata": {},
   "outputs": [],
   "source": []
  },
  {
   "cell_type": "code",
   "execution_count": null,
   "metadata": {},
   "outputs": [],
   "source": []
  },
  {
   "cell_type": "code",
   "execution_count": null,
   "metadata": {},
   "outputs": [],
   "source": []
  }
 ],
 "metadata": {
  "kernelspec": {
   "display_name": "Python 3 (ipykernel)",
   "language": "python",
   "name": "python3"
  },
  "language_info": {
   "codemirror_mode": {
    "name": "ipython",
    "version": 3
   },
   "file_extension": ".py",
   "mimetype": "text/x-python",
   "name": "python",
   "nbconvert_exporter": "python",
   "pygments_lexer": "ipython3",
   "version": "3.10.5"
  },
  "vscode": {
   "interpreter": {
    "hash": "31f2aee4e71d21fbe5cf8b01ff0e069b9275f58929596ceb00d14d90e3e16cd6"
   }
  }
 },
 "nbformat": 4,
 "nbformat_minor": 4
}
