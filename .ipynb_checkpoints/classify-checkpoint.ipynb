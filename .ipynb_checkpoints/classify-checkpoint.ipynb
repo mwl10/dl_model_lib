{
 "cells": [
  {
   "cell_type": "code",
   "execution_count": null,
   "id": "4ec3a1a2",
   "metadata": {},
   "outputs": [],
   "source": [
    "import json \n",
    "from sklearn.feature_extraction.text import CountVectorizer\n",
    "#from Building_your_Deep_Neural_Network_Step_by_Step import initialize_parameters, initialize_parameters_deep, linear_activation_forward, L_model_forward, compute cost,\n",
    "import numpy as np\n",
    "from nltk.tokenize import TweetTokenizer\n",
    "from sklearn.model_selection import train_test_split\n",
    "import math\n",
    "\n",
    "# acknowledge the data skew:\n",
    "# soul and reggae 1055, hip-hop 92, classical 52, jazz and blues 387, metal 1251, dance and electronica 588, pop 776,\n",
    "# folk 3869, punk 1021, classic pop and rock 8404\n",
    "\n",
    "# might as well just remove hip-hop, classical, for now\n",
    "\n",
    "\n",
    "# %matplotlib inline\n",
    "# plt.rcParams['figure.figsize'] = (7.0, 4.0) # set default size of plots\n",
    "# plt.rcParams['image.interpolation'] = 'nearest'\n",
    "# plt.rcParams['image.cmap'] = 'gray'\n",
    "\n",
    "\n",
    "genres = {'soul and reggae':0,'hip-hop':1, 'classical':2, 'jazz and blues':3, 'metal':4, 'dance and electronica':5, 'pop':6, 'folk':7, 'punk':8, 'classic pop and rock':9}\n",
    "#genres = {'soul and reggae':0, 'jazz and blues':1, 'metal':2, 'dance and electronica':3, 'pop':4, 'folk':5, 'punk':6, 'classic pop and rock':7}\n",
    "# load data\n",
    "f = open('music_data.json')\n",
    "data = json.load(f)\n",
    "print(\"data_preview: \\n\", data[1], data[10000], data[13000])\n",
    "data = np.array(data)\n",
    "# shuffle\n",
    "np.random.shuffle(data)\n",
    "\n",
    "%matplotlib inline\n",
    "plt.rcParams['figure.figsize'] = (7.0, 4.0) # set default size of plots\n",
    "plt.rcParams['image.interpolation'] = 'nearest'\n",
    "plt.rcParams['image.cmap'] = 'gray'"
   ]
  },
  {
   "cell_type": "code",
   "execution_count": null,
   "id": "f040ae6f",
   "metadata": {},
   "outputs": [],
   "source": [
    "## genre tags for each song \n",
    "y_tags = [x[0] for x in data]\n",
    "print(y_tags[:10])\n",
    "print(len(y_tags))\n",
    "\n",
    "## stemmed and most significant lyrics for every song \n",
    "lyrics = [x[1].rstrip() for x in data]\n",
    "\n",
    "## X holds the lyric data in vector form\n",
    "tk = TweetTokenizer()\n",
    "cv = CountVectorizer(tokenizer=tk.tokenize)\n",
    "cv_fit = cv.fit_transform(lyrics)\n",
    "X = cv_fit.toarray()\n",
    "features = cv.get_feature_names()\n",
    "print(\"vocabulary length\", len(features))\n",
    "print(features)\n",
    "\n"
   ]
  },
  {
   "cell_type": "code",
   "execution_count": null,
   "id": "d2f39114",
   "metadata": {},
   "outputs": [],
   "source": [
    "# make Y the tag vector now... so [0 1 0 0 0 0 0 0 0 0] corresponds to a song being 'hip-hop'\n",
    "Y = np.zeros((10,17495))\n",
    "for index, ex in enumerate(Y.T):\n",
    "\tex[genres[y_tags[index]]] = 1\n",
    "print(ex)\n"
   ]
  },
  {
   "cell_type": "code",
   "execution_count": null,
   "id": "fcbda669",
   "metadata": {},
   "outputs": [],
   "source": [
    "# normalize the data, \n",
    "avgs = np.sum(X, axis=0, keepdims=True) / X.shape[0]\n",
    "X = X - avgs\n",
    "X = X.T"
   ]
  },
  {
   "cell_type": "code",
   "execution_count": null,
   "id": "d66c038e",
   "metadata": {},
   "outputs": [],
   "source": [
    "# 2090 is the index of i in the vocabulary \n",
    "print(X[0][2090], X[1][2090])"
   ]
  },
  {
   "cell_type": "code",
   "execution_count": null,
   "id": "cad98850",
   "metadata": {},
   "outputs": [],
   "source": [
    "print('X shape', X.shape)\n",
    "print('Y shape', Y.shape)"
   ]
  },
  {
   "cell_type": "code",
   "execution_count": null,
   "id": "fba85a6b",
   "metadata": {},
   "outputs": [],
   "source": [
    "# 20 % test, 80% train\n",
    "x_train,x_test,y_train,y_test=train_test_split(X,Y.T,test_size=0.2)"
   ]
  },
  {
   "cell_type": "code",
   "execution_count": null,
   "id": "06325346",
   "metadata": {},
   "outputs": [],
   "source": [
    "y_train_rock = np.delete(y_train, (0,1,2,3,4,5,6,7,8), 1)\n",
    "y_test_rock = np.delete(y_test, (0,1,2,3,4,5,6,7,8), 1)\n",
    "print(x_train.shape, y_train_rock.shape)"
   ]
  },
  {
   "cell_type": "code",
   "execution_count": null,
   "id": "e4ea035e",
   "metadata": {},
   "outputs": [],
   "source": [
    "from dl_model import *\n",
    "from dl_model_with_optimization import * "
   ]
  },
  {
   "cell_type": "code",
   "execution_count": null,
   "id": "795e3738",
   "metadata": {
    "scrolled": true
   },
   "outputs": [],
   "source": [
    "layers_dims = [4935, 5, 2, 1]\n",
    "# got to fix y shapes and do one vs all models \n",
    "#parameters, costs = L_layer_model(x_train.T, y_train_rock.T, layers_dims, num_iterations = 500, print_cost = True)\n",
    "#parameters = model(x_train.T, y_train_rock.T, layers_dims, optimizer=\"adam\", learning_rate = 0.0007, mini_batch_size = 64, beta = 0.9,\n",
    "#beta1 = 0.9, beta2 = 0.999,  epsilon = 1e-8, num_epochs = 5000, print_cost = True, decay=None, decay_rate=1)\n",
    "\n",
    "parameters = model(x_train.T, y_train_rock.T, layers_dims, optimizer = \"adam\", learning_rate = 0.01, num_epochs=5000)\n",
    "\n",
    "\n",
    "\n"
   ]
  },
  {
   "cell_type": "code",
   "execution_count": null,
   "id": "e2b5898c",
   "metadata": {},
   "outputs": [],
   "source": [
    "print('train')\n",
    "pred_test = predict(x_train.T, y_train_rock.T, parameters)\n",
    "print('test')\n",
    "pred_test = predict(x_test.T, y_test_rock.T, parameters)\n"
   ]
  },
  {
   "cell_type": "code",
   "execution_count": null,
   "id": "b62f8ec9",
   "metadata": {},
   "outputs": [],
   "source": []
  },
  {
   "cell_type": "code",
   "execution_count": null,
   "id": "a66d116a",
   "metadata": {},
   "outputs": [],
   "source": []
  }
 ],
 "metadata": {
  "kernelspec": {
   "display_name": "Python 3 (ipykernel)",
   "language": "python",
   "name": "python3"
  },
  "language_info": {
   "codemirror_mode": {
    "name": "ipython",
    "version": 3
   },
   "file_extension": ".py",
   "mimetype": "text/x-python",
   "name": "python",
   "nbconvert_exporter": "python",
   "pygments_lexer": "ipython3",
   "version": "3.9.2"
  }
 },
 "nbformat": 4,
 "nbformat_minor": 5
}
