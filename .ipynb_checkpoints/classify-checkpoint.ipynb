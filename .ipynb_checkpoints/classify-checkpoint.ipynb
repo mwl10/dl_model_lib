{
 "cells": [
  {
   "cell_type": "code",
   "execution_count": 2,
   "id": "4ec3a1a2",
   "metadata": {},
   "outputs": [
    {
     "name": "stdout",
     "output_type": "stream",
     "text": [
      "data_preview: \n",
      " ['classic pop and rock', 'i i i i i the the the the the the the the the you you you you you you you you you you you you you to and and and and and and and and and and and me me me me me me it it it it not not not not not my my is is do do do do do do do on on are are are are are am will all all all no have know know know know but what what just just just go out out out get get get get see see see want want want way way say would would ca yeah yeah yeah yeah yeah heart heart heart eye more been well well well still about everyth everyth everyth stop stop stop thought realli hard even even even even gotta gotta gotta close close blood mayb today ask ask ask set set set set set set blind blind blind blind between tire shot steal steal steal silver silver silver complet complet complet complet complet aw aw failur failur failur failur failur tone tone tone panic steam steam steam chrome chrome chrome '] ['punk', 'i i i i the the the the the the the the the the the the you you you you to to to to and and and and a a a a a a a a a a a a a me it it not not not not in in in my my is of of of of your do do do do are are we we we we we we we will will will will all all all for be so so so so so know know but with with what what just just just like time go go go up up out out out down down down get get get she she she if if if if never want let let way way way say say take day at away life her night look eye eye gonna die again too well still us us us us us us us us us around around some everi run ever o o o o o o o much stand care care dead bring bring bring rememb year mani miss came hurt ground kind young young strong pull drink plan drop & & & & & & & & cos rais buy glass hill ago dare anybodi anybodi store common charg pode teardrop teardrop gi gi gi gi gi gi wee glisten '] ['folk', 'i the the the the the the the the the the the the the the the the you you you to to and and and and and and and and a a a a a a a a a it it it it it it not in in in is is is is is is is is is is of of your that do am all for no love love love love love so with there there there there there there go up up up one out got got got got make take as as at by here look eye world more live everi everi everi everi everi into hey stand than chorus chorus chorus doe wonder togeth togeth ride roll roll roll sure told round round round round ani wall part matter els aliv room everyon moment rest laugh whole pull bright flow piec piec piec piec piec piec piec catch pictur number jump nothin famili bridg dust hat ball ball ball ball ball ball ball ball ball fit fit grey idea shape energi energi sunris pump import bounc puzzl saddl ']\n"
     ]
    }
   ],
   "source": [
    "import json \n",
    "from sklearn.feature_extraction.text import CountVectorizer\n",
    "#from Building_your_Deep_Neural_Network_Step_by_Step import initialize_parameters, initialize_parameters_deep, linear_activation_forward, L_model_forward, compute cost,\n",
    "import numpy as np\n",
    "from nltk.tokenize import TweetTokenizer\n",
    "from sklearn.model_selection import train_test_split\n",
    "import math\n",
    "\n",
    "# acknowledge the data skew:\n",
    "# soul and reggae 1055, hip-hop 92, classical 52, jazz and blues 387, metal 1251, dance and electronica 588, pop 776,\n",
    "# folk 3869, punk 1021, classic pop and rock 8404\n",
    "\n",
    "# might as well just remove hip-hop, classical, for now\n",
    "\n",
    "\n",
    "# %matplotlib inline\n",
    "# plt.rcParams['figure.figsize'] = (7.0, 4.0) # set default size of plots\n",
    "# plt.rcParams['image.interpolation'] = 'nearest'\n",
    "# plt.rcParams['image.cmap'] = 'gray'\n",
    "\n",
    "\n",
    "genres = {'soul and reggae':0,'hip-hop':1, 'classical':2, 'jazz and blues':3, 'metal':4, 'dance and electronica':5, 'pop':6, 'folk':7, 'punk':8, 'classic pop and rock':9}\n",
    "#genres = {'soul and reggae':0, 'jazz and blues':1, 'metal':2, 'dance and electronica':3, 'pop':4, 'folk':5, 'punk':6, 'classic pop and rock':7}\n",
    "# load data\n",
    "f = open('music_data.json')\n",
    "data = json.load(f)\n",
    "print(\"data_preview: \\n\", data[1], data[10000], data[13000])\n",
    "data = np.array(data)\n",
    "# shuffle\n",
    "np.random.shuffle(data)\n",
    "\n",
    "# %matplotlib inline\n",
    "# plt.rcParams['figure.figsize'] = (7.0, 4.0) # set default size of plots\n",
    "# plt.rcParams['image.interpolation'] = 'nearest'\n",
    "# plt.rcParams['image.cmap'] = 'gray'"
   ]
  },
  {
   "cell_type": "code",
   "execution_count": 3,
   "id": "f040ae6f",
   "metadata": {},
   "outputs": [
    {
     "name": "stdout",
     "output_type": "stream",
     "text": [
      "['folk', 'dance and electronica', 'classic pop and rock', 'metal', 'classic pop and rock', 'classic pop and rock', 'classic pop and rock', 'classic pop and rock', 'classical', 'jazz and blues']\n",
      "17495\n",
      "vocabulary length 4935\n",
      "['&', '000', '1', '10', '100', '12', '13', '15', '16', '2', '20', '24', '2x', '3', '30', '3x', '4', '40', '4x', '5', '50', '6', '7', '8', '9', '`', 'a', 'aaah', 'aah', 'aan', 'ab', 'abandon', 'aber', 'abl', 'aboard', 'about', 'abov', 'abr', 'absenc', 'absolut', 'absurd', 'abus', 'abyss', 'acaba', 'acabar', 'accept', 'accid', 'accus', 'ace', 'ach', 'achiev', 'acid', 'across', 'act', 'action', 'actor', 'actual', 'ad', 'adam', 'add', 'addict', 'adentro', 'adio', 'adió', 'admir', 'admit', 'ador', 'advanc', 'adventur', 'advic', 'afar', 'affair', 'affect', 'afford', 'afraid', 'africa', 'after', 'afternoon', 'again', 'against', 'age', 'ago', 'agoni', 'agora', 'agre', 'agua', 'ah', 'aha', 'ahead', 'ahh', 'ahhh', 'ahi', 'ahora', 'ahí', 'ai', 'aid', 'aim', 'ain', 'ainda', 'aint']\n"
     ]
    }
   ],
   "source": [
    "## genre tags for each song \n",
    "y_tags = [x[0] for x in data]\n",
    "print(y_tags[:10])\n",
    "print(len(y_tags))\n",
    "\n",
    "## stemmed and most significant lyrics for every song \n",
    "lyrics = [x[1].rstrip() for x in data]\n",
    "\n",
    "## X holds the lyric data in vector form\n",
    "tk = TweetTokenizer()\n",
    "cv = CountVectorizer(tokenizer=tk.tokenize)\n",
    "cv_fit = cv.fit_transform(lyrics)\n",
    "X = cv_fit.toarray()\n",
    "features = cv.get_feature_names()\n",
    "print(\"vocabulary length\", len(features))\n",
    "print(features[:100])\n",
    "\n"
   ]
  },
  {
   "cell_type": "code",
   "execution_count": 4,
   "id": "d2f39114",
   "metadata": {},
   "outputs": [
    {
     "name": "stdout",
     "output_type": "stream",
     "text": [
      "[0. 0. 0. 0. 0. 1. 0. 0. 0. 0.]\n"
     ]
    }
   ],
   "source": [
    "# make Y the tag vector now... so [0 1 0 0 0 0 0 0 0 0] corresponds to a song being 'hip-hop'\n",
    "Y = np.zeros((10,17495))\n",
    "for index, ex in enumerate(Y.T):\n",
    "\tex[genres[y_tags[index]]] = 1\n",
    "print(ex)\n"
   ]
  },
  {
   "cell_type": "code",
   "execution_count": 5,
   "id": "fcbda669",
   "metadata": {},
   "outputs": [],
   "source": [
    "# normalize the data, \n",
    "avgs = np.sum(X, axis=0, keepdims=True) / X.shape[0]\n",
    "X = X - avgs\n",
    "X = X.T"
   ]
  },
  {
   "cell_type": "code",
   "execution_count": 6,
   "id": "d66c038e",
   "metadata": {},
   "outputs": [
    {
     "name": "stdout",
     "output_type": "stream",
     "text": [
      "-0.04349814232637896 -0.0016004572735067162\n"
     ]
    }
   ],
   "source": [
    "# 2090 is the index of i in the vocabulary \n",
    "print(X[0][2090], X[1][2090])"
   ]
  },
  {
   "cell_type": "code",
   "execution_count": 7,
   "id": "cad98850",
   "metadata": {},
   "outputs": [
    {
     "name": "stdout",
     "output_type": "stream",
     "text": [
      "X shape (4935, 17495)\n",
      "Y shape (10, 17495)\n"
     ]
    }
   ],
   "source": [
    "print('X shape', X.shape)\n",
    "print('Y shape', Y.shape)"
   ]
  },
  {
   "cell_type": "code",
   "execution_count": 8,
   "id": "fba85a6b",
   "metadata": {},
   "outputs": [],
   "source": [
    "# 20 % test, 80% train\n",
    "x_train,x_test,y_train,y_test=train_test_split(X.T,Y.T,test_size=0.2)"
   ]
  },
  {
   "cell_type": "code",
   "execution_count": 9,
   "id": "06325346",
   "metadata": {},
   "outputs": [
    {
     "name": "stdout",
     "output_type": "stream",
     "text": [
      "(13996, 4935) (13996, 1)\n"
     ]
    }
   ],
   "source": [
    "y_train_rock = np.delete(y_train, (0,1,2,3,4,5,6,7,8), 1)\n",
    "y_test_rock = np.delete(y_test, (0,1,2,3,4,5,6,7,8), 1)\n",
    "print(x_train.shape, y_train_rock.shape)"
   ]
  },
  {
   "cell_type": "code",
   "execution_count": 10,
   "id": "e4ea035e",
   "metadata": {},
   "outputs": [],
   "source": [
    "from dl_model import *\n",
    "from dl_model_with_optimization import * "
   ]
  },
  {
   "cell_type": "code",
   "execution_count": 11,
   "id": "795e3738",
   "metadata": {
    "scrolled": true
   },
   "outputs": [
    {
     "name": "stdout",
     "output_type": "stream",
     "text": [
      "Cost after iteration 0: 0.6929067997978036\n",
      "Cost after iteration 100: 0.6911061553477024\n",
      "Cost after iteration 200: 0.6898270586314038\n",
      "Cost after iteration 300: 0.6886832234282387\n",
      "Cost after iteration 400: 0.6874953879848381\n",
      "Cost after iteration 499: 0.6862321544843996\n"
     ]
    }
   ],
   "source": [
    "layers_dims = [4935, 5, 2, 1]\n",
    "\n",
    "parameters, costs = L_layer_model(x_train.T, y_train_rock.T, layers_dims, num_iterations = 500, print_cost = True)\n"
   ]
  },
  {
   "cell_type": "code",
   "execution_count": 12,
   "id": "53f4b760",
   "metadata": {},
   "outputs": [
    {
     "name": "stdout",
     "output_type": "stream",
     "text": [
      "Cost after epoch 0: 0.657069\n"
     ]
    },
    {
     "name": "stderr",
     "output_type": "stream",
     "text": [
      "/Users/mattlowery/Desktop/code/fun/music_genre/dl_model_with_optimization.py:20: RuntimeWarning: overflow encountered in exp\n",
      "  s = 1/(1+np.exp(-x))\n",
      "/Users/mattlowery/Desktop/code/fun/music_genre/dl_model_with_optimization.py:129: RuntimeWarning: divide by zero encountered in log\n",
      "  logprobs = np.multiply(-np.log(a3),Y) + np.multiply(-np.log(1 - a3), 1 - Y)\n",
      "/Users/mattlowery/Desktop/code/fun/music_genre/dl_model_with_optimization.py:129: RuntimeWarning: invalid value encountered in multiply\n",
      "  logprobs = np.multiply(-np.log(a3),Y) + np.multiply(-np.log(1 - a3), 1 - Y)\n"
     ]
    },
    {
     "data": {
      "image/png": "[encoded data removed]",
      "text/plain": [
       "<Figure size 432x288 with 1 Axes>"
      ]
     },
     "metadata": {
      "needs_background": "light"
     },
     "output_type": "display_data"
    }
   ],
   "source": [
    "## having overflow issues, check exploding gradients? \n",
    "parameters = model(x_train.T, y_train_rock.T, layers_dims, optimizer = \"adam\", learning_rate = 0.05, num_epochs=1000)"
   ]
  },
  {
   "cell_type": "code",
   "execution_count": 13,
   "id": "e2b5898c",
   "metadata": {},
   "outputs": [
    {
     "name": "stdout",
     "output_type": "stream",
     "text": [
      "train\n",
      "Accuracy: 0.4852100600171478\n",
      "test\n",
      "Accuracy: 0.46098885395827377\n"
     ]
    }
   ],
   "source": [
    "print('train')\n",
    "pred_test = predict(x_train.T, y_train_rock.T, parameters)\n",
    "print('test')\n",
    "pred_test = predict(x_test.T, y_test_rock.T, parameters)\n"
   ]
  },
  {
   "cell_type": "code",
   "execution_count": null,
   "id": "b62f8ec9",
   "metadata": {},
   "outputs": [],
   "source": []
  },
  {
   "cell_type": "code",
   "execution_count": null,
   "id": "a66d116a",
   "metadata": {},
   "outputs": [],
   "source": []
  }
 ],
 "metadata": {
  "kernelspec": {
   "display_name": "Python 3 (ipykernel)",
   "language": "python",
   "name": "python3"
  },
  "language_info": {
   "codemirror_mode": {
    "name": "ipython",
    "version": 3
   },
   "file_extension": ".py",
   "mimetype": "text/x-python",
   "name": "python",
   "nbconvert_exporter": "python",
   "pygments_lexer": "ipython3",
   "version": "3.9.2"
  }
 },
 "nbformat": 4,
 "nbformat_minor": 5
}
